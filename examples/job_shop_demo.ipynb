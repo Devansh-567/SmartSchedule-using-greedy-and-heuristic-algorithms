{
 "cells": [
  {
   "cell_type": "code",
   "execution_count": null,
   "id": "21b2bc23",
   "metadata": {},
   "outputs": [],
   "source": [
    "# Job Shop Scheduling Demo\n",
    "\n",
    "This notebook demonstrates the greedy job shop scheduler.\n",
    "\n",
    "## Problem Setup\n",
    "\n",
    "We have 2 jobs:\n",
    "- Job 0: Machine 0 (3 units) → Machine 1 (2 units)\n",
    "- Job 1: Machine 1 (4 units) → Machine 0 (1 unit)\n",
    "\n",
    "Goal: Minimize makespan (total time).\n",
    "\n",
    "## Run Scheduler\n",
    "\"\"\"\n",
    "\n",
    "# Import\n",
    "from scheduling.job_shop_scheduler import job_shop_greedy\n",
    "\n",
    "jobs = [\n",
    "    [(0, 3), (1, 2)],\n",
    "    [(1, 4), (0, 1)]\n",
    "]\n",
    "\n",
    "schedule, makespan = job_shop_greedy(jobs)\n",
    "\n",
    "print(f\"Makespan: {makespan}\")\n",
    "for machine_id, ops in sorted(schedule.items()):\n",
    "    print(f\"\\nMachine {machine_id}:\")\n",
    "    for op in ops:\n",
    "        print(f\"  Job {op.job_id}: [{op.start}, {op.end})\")\n",
    "\n",
    "\"\"\"\n",
    "## Output:\n",
    "Makespan: 7\n",
    "\n",
    "Machine 0:\n",
    "  Job 0: [0, 3)\n",
    "  Job 1: [3, 4)\n",
    "\n",
    "Machine 1:\n",
    "  Job 1: [0, 4)\n",
    "  Job 0: [4, 6)\n",
    "\n",
    "Note: Job 0 waits on Machine 1 until time 4 because Machine 1 was busy until 4.\n",
    "\n",
    "This shows how operation order and machine contention affect scheduling.\n",
    "\"\"\""
   ]
  }
 ],
 "metadata": {
  "language_info": {
   "name": "python"
  }
 },
 "nbformat": 4,
 "nbformat_minor": 5
}
